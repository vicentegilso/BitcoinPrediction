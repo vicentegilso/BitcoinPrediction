{
  "nbformat": 4,
  "nbformat_minor": 0,
  "metadata": {
    "colab": {
      "name": "ModelosBitcoinLSTM.ipynb",
      "provenance": [],
      "collapsed_sections": [],
      "include_colab_link": true
    },
    "kernelspec": {
      "name": "python3",
      "display_name": "Python 3"
    },
    "language_info": {
      "name": "python"
    }
  },
  "cells": [
    {
      "cell_type": "markdown",
      "metadata": {
        "id": "view-in-github",
        "colab_type": "text"
      },
      "source": [
        "<a href=\"https://colab.research.google.com/github/vicentegilso/BitcoinPrediction/blob/main/ModelosBitcoinLSTM.ipynb\" target=\"_parent\"><img src=\"https://colab.research.google.com/assets/colab-badge.svg\" alt=\"Open In Colab\"/></a>"
      ]
    },
    {
      "cell_type": "code",
      "metadata": {
        "colab": {
          "base_uri": "https://localhost:8080/",
          "height": 289
        },
        "id": "o-2PM7xz9doQ",
        "outputId": "8a54c622-8c2b-4882-85de-0353493909de"
      },
      "source": [
        "### Download library ###\n",
        "\n",
        "import pandas as pd\n",
        "from pandas import read_csv\n",
        "from pandas import datetime\n",
        "from matplotlib import pyplot\n",
        "import datetime as dt\n",
        "from pandas_datareader import data\n",
        "def parser(x):\n",
        "    return datetime.strptime('20'+x, '%Y-%m-%d-%H-%M')\n",
        "import numpy as np\n",
        "from enum import Enum\n",
        "import datetime as dt\n",
        "from pandas_datareader import data\n",
        "\n",
        "dataset_raw = data.DataReader('BTC-USD','yahoo', dt.datetime(2017,1,1), dt.datetime.now())\n",
        "dataset_raw.head()"
      ],
      "execution_count": 1,
      "outputs": [
        {
          "output_type": "stream",
          "text": [
            "/usr/local/lib/python3.7/dist-packages/ipykernel_launcher.py:5: FutureWarning: The pandas.datetime class is deprecated and will be removed from pandas in a future version. Import from datetime module instead.\n",
            "  \"\"\"\n"
          ],
          "name": "stderr"
        },
        {
          "output_type": "execute_result",
          "data": {
            "text/html": [
              "<div>\n",
              "<style scoped>\n",
              "    .dataframe tbody tr th:only-of-type {\n",
              "        vertical-align: middle;\n",
              "    }\n",
              "\n",
              "    .dataframe tbody tr th {\n",
              "        vertical-align: top;\n",
              "    }\n",
              "\n",
              "    .dataframe thead th {\n",
              "        text-align: right;\n",
              "    }\n",
              "</style>\n",
              "<table border=\"1\" class=\"dataframe\">\n",
              "  <thead>\n",
              "    <tr style=\"text-align: right;\">\n",
              "      <th></th>\n",
              "      <th>High</th>\n",
              "      <th>Low</th>\n",
              "      <th>Open</th>\n",
              "      <th>Close</th>\n",
              "      <th>Volume</th>\n",
              "      <th>Adj Close</th>\n",
              "    </tr>\n",
              "    <tr>\n",
              "      <th>Date</th>\n",
              "      <th></th>\n",
              "      <th></th>\n",
              "      <th></th>\n",
              "      <th></th>\n",
              "      <th></th>\n",
              "      <th></th>\n",
              "    </tr>\n",
              "  </thead>\n",
              "  <tbody>\n",
              "    <tr>\n",
              "      <th>2017-01-01</th>\n",
              "      <td>1003.080017</td>\n",
              "      <td>958.698975</td>\n",
              "      <td>963.658020</td>\n",
              "      <td>998.325012</td>\n",
              "      <td>147775008.0</td>\n",
              "      <td>998.325012</td>\n",
              "    </tr>\n",
              "    <tr>\n",
              "      <th>2017-01-02</th>\n",
              "      <td>1031.390015</td>\n",
              "      <td>996.702026</td>\n",
              "      <td>998.617004</td>\n",
              "      <td>1021.750000</td>\n",
              "      <td>222184992.0</td>\n",
              "      <td>1021.750000</td>\n",
              "    </tr>\n",
              "    <tr>\n",
              "      <th>2017-01-03</th>\n",
              "      <td>1044.079956</td>\n",
              "      <td>1021.599976</td>\n",
              "      <td>1021.599976</td>\n",
              "      <td>1043.839966</td>\n",
              "      <td>185168000.0</td>\n",
              "      <td>1043.839966</td>\n",
              "    </tr>\n",
              "    <tr>\n",
              "      <th>2017-01-04</th>\n",
              "      <td>1159.420044</td>\n",
              "      <td>1044.400024</td>\n",
              "      <td>1044.400024</td>\n",
              "      <td>1154.729980</td>\n",
              "      <td>344945984.0</td>\n",
              "      <td>1154.729980</td>\n",
              "    </tr>\n",
              "    <tr>\n",
              "      <th>2017-01-05</th>\n",
              "      <td>1191.099976</td>\n",
              "      <td>910.416992</td>\n",
              "      <td>1156.729980</td>\n",
              "      <td>1013.380005</td>\n",
              "      <td>510199008.0</td>\n",
              "      <td>1013.380005</td>\n",
              "    </tr>\n",
              "  </tbody>\n",
              "</table>\n",
              "</div>"
            ],
            "text/plain": [
              "                   High          Low  ...       Volume    Adj Close\n",
              "Date                                  ...                          \n",
              "2017-01-01  1003.080017   958.698975  ...  147775008.0   998.325012\n",
              "2017-01-02  1031.390015   996.702026  ...  222184992.0  1021.750000\n",
              "2017-01-03  1044.079956  1021.599976  ...  185168000.0  1043.839966\n",
              "2017-01-04  1159.420044  1044.400024  ...  344945984.0  1154.729980\n",
              "2017-01-05  1191.099976   910.416992  ...  510199008.0  1013.380005\n",
              "\n",
              "[5 rows x 6 columns]"
            ]
          },
          "metadata": {
            "tags": []
          },
          "execution_count": 1
        }
      ]
    },
    {
      "cell_type": "code",
      "metadata": {
        "id": "8nNN9eTM90W-"
      },
      "source": [
        "#Luego vamos a definir dos clases, ActionColorMapping y ActionPricePoint#\n",
        "\n",
        "class ActionColorMapping(Enum):\n",
        "    SELL = 'red'\n",
        "    BUY = 'green'\n",
        "\n",
        "class ActionPricePoint:\n",
        "    def __init__(self, price, date, action):\n",
        "        self.price = price\n",
        "        self.date = date\n",
        "        self.action = action"
      ],
      "execution_count": 112,
      "outputs": []
    },
    {
      "cell_type": "code",
      "metadata": {
        "id": "STy7lPLox6iY"
      },
      "source": [
        "#Evaluar si estamos en condiciones de vender y otra que evalúa si estamos en condiciones de comprar#\n",
        "def sell():     \n",
        "    return lambda left, right: left < right \n",
        "\n",
        "def buy():     \n",
        "    return lambda left, right: left >= right"
      ],
      "execution_count": 113,
      "outputs": []
    },
    {
      "cell_type": "code",
      "metadata": {
        "id": "3Kg9A4qU1AI6"
      },
      "source": [
        "#Visualizar el precio, las medias móviles y los puntos de compra y venta que se hayan manifestado en el pasado#\n",
        "def plot(price, ma_20, ma_100, action_price_points):     \n",
        "    ax = price.plot()     \n",
        "    \n",
        "    ma_20.plot(label='Moving Average 20 Days', ax=ax)     \n",
        "    ma_100.plot(label='Moving Average 100 Days', ax=ax)     \n",
        "    \n",
        "    ax.set_xlabel('Date')     \n",
        "    ax.set_ylabel('Closing Price')     \n",
        "    ax.set_title('BTC-USD. Closing Price')     \n",
        "    ax.legend(loc='upper left')     \n",
        "    \n",
        "    for position in action_price_points:         \n",
        "        plt.scatter(position.date, position.price, s=600, c=position.action.value)     \n",
        "    \n",
        "    plt.show()"
      ],
      "execution_count": 119,
      "outputs": []
    },
    {
      "cell_type": "code",
      "metadata": {
        "id": "QKcBcgxC1RRg"
      },
      "source": [
        "# implementación del algoritmo de cruces de medias móviles#\n",
        "\n",
        "def retrieve_closing_price(symbol):     \n",
        "    df = data.DataReader('BTC-USD','yahoo', dt.datetime(2017,1,1), dt.datetime.now())    \n",
        "    return df['Close'] \n",
        "\n",
        "def data_not_available(price):     \n",
        "    return np.isnan(price) \n",
        "\n",
        "def calculate_moving_average_crossovers(symbol):     \n",
        "    closing_price = retrieve_closing_price(symbol)     \n",
        "    \n",
        "    rm_20 = closing_price.rolling(window=20).mean()     \n",
        "    rm_100 = closing_price.rolling(window=100).mean()     \n",
        "    \n",
        "    action = ActionColorMapping.SELL     \n",
        "    signal_detected = sell()     \n",
        "    signals = []     \n",
        "    \n",
        "    for index in range(closing_price.size):         \n",
        "        if data_not_available(rm_20[index]) or data_not_available(rm_100[index]):             \n",
        "            continue         \n",
        "        \n",
        "        if signal_detected(rm_20[index], rm_100[index]):          \n",
        "            mean_price = (rm_20[index] + rm_100[index]) / 2             \n",
        "            action = ActionPricePoint(mean_price, index, action)             \n",
        "            signals.append(action)         \n",
        "        \n",
        "        if rm_20[index] >= rm_100[index]:             \n",
        "            action = ActionColorMapping.SELL             \n",
        "            signal_detected = sell()         \n",
        "        else:             \n",
        "            action = ActionColorMapping.BUY            \n",
        "            signal_detected = buy()     \n",
        "\n",
        "if __name__ == '__main__':     \n",
        "    calculate_moving_average_crossovers('BTC-USD')\n"
      ],
      "execution_count": 147,
      "outputs": []
    },
    {
      "cell_type": "code",
      "metadata": {
        "id": "LEcrpqHVBnEt"
      },
      "source": [
        "# ligeramente modificada para escoger la variable objetivo\n",
        "def create_dataset(dataset, look_back_memory=1, idx_target=-1):\n",
        "    dataX, dataY = [], []\n",
        "    for i in range(len(dataset)-look_back_memory-1):\n",
        "        dataX.append(dataset[i:i+look_back_memory])\n",
        "        dataY.append(dataset[i+look_back_memory, idx_target])\n",
        "    return np.array(dataX), np.array(dataY)"
      ],
      "execution_count": 2,
      "outputs": []
    },
    {
      "cell_type": "code",
      "metadata": {
        "id": "qTePbrmMBwCd",
        "colab": {
          "base_uri": "https://localhost:8080/"
        },
        "outputId": "039e55a6-c005-42f1-b5ca-db3f83c03a24"
      },
      "source": [
        "X, Y = create_dataset(dataset_raw.values, look_back_memory=10, idx_target=3)\n",
        "print(X.shape)\n",
        "print(Y.shape)"
      ],
      "execution_count": 3,
      "outputs": [
        {
          "output_type": "stream",
          "text": [
            "(1561, 10, 6)\n",
            "(1561,)\n"
          ],
          "name": "stdout"
        }
      ]
    },
    {
      "cell_type": "code",
      "metadata": {
        "id": "ytmLgNzcEOow"
      },
      "source": [
        "# hacemos el import de todo lo que utilizaremos\n",
        "import numpy as np\n",
        "import matplotlib.pyplot as plt\n",
        "from pandas import read_csv\n",
        "import math\n",
        "from keras.models import Sequential\n",
        "from keras.layers import Dense, LSTM\n",
        "from sklearn.preprocessing import MinMaxScaler\n",
        "from sklearn.metrics import mean_squared_error\n",
        "\n"
      ],
      "execution_count": 4,
      "outputs": []
    },
    {
      "cell_type": "code",
      "metadata": {
        "id": "VTa44GgpEyFL"
      },
      "source": [
        "# fijamos la semilla para obtener resultados reproducibles\n",
        "np.random.seed(42)"
      ],
      "execution_count": 5,
      "outputs": []
    },
    {
      "cell_type": "code",
      "metadata": {
        "colab": {
          "base_uri": "https://localhost:8080/"
        },
        "id": "zFFyyrEFFCMD",
        "outputId": "e616bcb9-312a-4885-bf00-db7d528c6b97"
      },
      "source": [
        "dataset_raw.shape"
      ],
      "execution_count": 6,
      "outputs": [
        {
          "output_type": "execute_result",
          "data": {
            "text/plain": [
              "(1572, 6)"
            ]
          },
          "metadata": {
            "tags": []
          },
          "execution_count": 6
        }
      ]
    },
    {
      "cell_type": "code",
      "metadata": {
        "colab": {
          "base_uri": "https://localhost:8080/",
          "height": 297
        },
        "id": "7BMKwGhJFW5a",
        "outputId": "d434dcc4-3759-457b-9ccd-9e757a3bedc8"
      },
      "source": [
        "dataframe = dataset_raw.drop(columns=['Adj Close', 'High', 'Low',])\n",
        "dataframe.describe()"
      ],
      "execution_count": 7,
      "outputs": [
        {
          "output_type": "execute_result",
          "data": {
            "text/html": [
              "<div>\n",
              "<style scoped>\n",
              "    .dataframe tbody tr th:only-of-type {\n",
              "        vertical-align: middle;\n",
              "    }\n",
              "\n",
              "    .dataframe tbody tr th {\n",
              "        vertical-align: top;\n",
              "    }\n",
              "\n",
              "    .dataframe thead th {\n",
              "        text-align: right;\n",
              "    }\n",
              "</style>\n",
              "<table border=\"1\" class=\"dataframe\">\n",
              "  <thead>\n",
              "    <tr style=\"text-align: right;\">\n",
              "      <th></th>\n",
              "      <th>Open</th>\n",
              "      <th>Close</th>\n",
              "      <th>Volume</th>\n",
              "    </tr>\n",
              "  </thead>\n",
              "  <tbody>\n",
              "    <tr>\n",
              "      <th>count</th>\n",
              "      <td>1572.000000</td>\n",
              "      <td>1572.000000</td>\n",
              "      <td>1.572000e+03</td>\n",
              "    </tr>\n",
              "    <tr>\n",
              "      <th>mean</th>\n",
              "      <td>10448.921214</td>\n",
              "      <td>10478.677978</td>\n",
              "      <td>1.809683e+10</td>\n",
              "    </tr>\n",
              "    <tr>\n",
              "      <th>std</th>\n",
              "      <td>11602.645255</td>\n",
              "      <td>11641.152291</td>\n",
              "      <td>2.067562e+10</td>\n",
              "    </tr>\n",
              "    <tr>\n",
              "      <th>min</th>\n",
              "      <td>775.177979</td>\n",
              "      <td>777.757019</td>\n",
              "      <td>6.085170e+07</td>\n",
              "    </tr>\n",
              "    <tr>\n",
              "      <th>25%</th>\n",
              "      <td>4347.042480</td>\n",
              "      <td>4362.554932</td>\n",
              "      <td>4.055497e+09</td>\n",
              "    </tr>\n",
              "    <tr>\n",
              "      <th>50%</th>\n",
              "      <td>7783.005127</td>\n",
              "      <td>7801.329834</td>\n",
              "      <td>1.210100e+10</td>\n",
              "    </tr>\n",
              "    <tr>\n",
              "      <th>75%</th>\n",
              "      <td>10345.483887</td>\n",
              "      <td>10346.048096</td>\n",
              "      <td>2.552766e+10</td>\n",
              "    </tr>\n",
              "    <tr>\n",
              "      <th>max</th>\n",
              "      <td>63523.753906</td>\n",
              "      <td>63503.457031</td>\n",
              "      <td>3.509679e+11</td>\n",
              "    </tr>\n",
              "  </tbody>\n",
              "</table>\n",
              "</div>"
            ],
            "text/plain": [
              "               Open         Close        Volume\n",
              "count   1572.000000   1572.000000  1.572000e+03\n",
              "mean   10448.921214  10478.677978  1.809683e+10\n",
              "std    11602.645255  11641.152291  2.067562e+10\n",
              "min      775.177979    777.757019  6.085170e+07\n",
              "25%     4347.042480   4362.554932  4.055497e+09\n",
              "50%     7783.005127   7801.329834  1.210100e+10\n",
              "75%    10345.483887  10346.048096  2.552766e+10\n",
              "max    63523.753906  63503.457031  3.509679e+11"
            ]
          },
          "metadata": {
            "tags": []
          },
          "execution_count": 7
        }
      ]
    },
    {
      "cell_type": "code",
      "metadata": {
        "id": "xHtM6RdMFKhr"
      },
      "source": [
        "# normalizamos el dataset\n",
        "scaler = MinMaxScaler(feature_range=(0, 1))\n",
        "dataset = scaler.fit_transform(dataframe)\n"
      ],
      "execution_count": 8,
      "outputs": []
    },
    {
      "cell_type": "code",
      "metadata": {
        "colab": {
          "base_uri": "https://localhost:8080/"
        },
        "id": "xgpLZ3CiFdmP",
        "outputId": "913da3d3-3b60-4082-b1c6-42fa5ac4b495"
      },
      "source": [
        "dataset.min(axis=0)"
      ],
      "execution_count": 9,
      "outputs": [
        {
          "output_type": "execute_result",
          "data": {
            "text/plain": [
              "array([0., 0., 0.])"
            ]
          },
          "metadata": {
            "tags": []
          },
          "execution_count": 9
        }
      ]
    },
    {
      "cell_type": "code",
      "metadata": {
        "colab": {
          "base_uri": "https://localhost:8080/"
        },
        "id": "zTFYWPWYFqwm",
        "outputId": "eb8dcc03-794b-46e6-bff8-956820dfa24e"
      },
      "source": [
        "scaler.data_min_"
      ],
      "execution_count": 10,
      "outputs": [
        {
          "output_type": "execute_result",
          "data": {
            "text/plain": [
              "array([7.75177979e+02, 7.77757019e+02, 6.08517000e+07])"
            ]
          },
          "metadata": {
            "tags": []
          },
          "execution_count": 10
        }
      ]
    },
    {
      "cell_type": "code",
      "metadata": {
        "colab": {
          "base_uri": "https://localhost:8080/"
        },
        "id": "ZkPioJxnFvB0",
        "outputId": "b97a0a40-4ee3-41c3-8048-b75792a65e40"
      },
      "source": [
        "scaler.data_max_"
      ],
      "execution_count": 11,
      "outputs": [
        {
          "output_type": "execute_result",
          "data": {
            "text/plain": [
              "array([6.35237539e+04, 6.35034570e+04, 3.50967941e+11])"
            ]
          },
          "metadata": {
            "tags": []
          },
          "execution_count": 11
        }
      ]
    },
    {
      "cell_type": "code",
      "metadata": {
        "id": "kYpoGY0IGDT1"
      },
      "source": [
        "# dividimos en train y test\n",
        "train_size = int(len(dataset) * 0.67)\n",
        "test_size = len(dataset) - train_size\n",
        "train, test = dataset[0:train_size,:], dataset[train_size:len(dataset),:]"
      ],
      "execution_count": 12,
      "outputs": []
    },
    {
      "cell_type": "code",
      "metadata": {
        "colab": {
          "base_uri": "https://localhost:8080/"
        },
        "id": "VNLaREyNGIze",
        "outputId": "2cfb52a7-98be-463b-aa34-3cbbe72c6819"
      },
      "source": [
        "# transformamos los datos para crearnos N registros con T timestamps cada uno \n",
        "# (uno por cada instante temporal hasta completar el tamaño de la ventana) y \n",
        "# las V variables de las que disponga nuestro dataset. En este caso, vamos a \n",
        "# escoger una ventana con un único timestamp T=1 y solo tendremos una variable,\n",
        "# con lo que V=10 (número de pasajeros).\n",
        "look_back_memory = 10\n",
        "trainX, trainY = create_dataset(train, look_back_memory)\n",
        "testX, testY = create_dataset(test, look_back_memory)\n",
        "print(trainX.shape, trainY.shape)\n",
        "print(testX.shape, testY.shape)"
      ],
      "execution_count": 13,
      "outputs": [
        {
          "output_type": "stream",
          "text": [
            "(1042, 10, 3) (1042,)\n",
            "(508, 10, 3) (508,)\n"
          ],
          "name": "stdout"
        }
      ]
    },
    {
      "cell_type": "code",
      "metadata": {
        "colab": {
          "base_uri": "https://localhost:8080/"
        },
        "id": "2u568dumGMu4",
        "outputId": "a7ae1f4c-202d-410f-bc1d-ceff8fda82d3"
      },
      "source": [
        "# Nos aseguramos de que las dimensiones de las entradas son las correctas:\n",
        "# (número de ventanas de T elementos, los T elementos de cada ventana, las V variables de cada timestamp)\n",
        "variables = 3\n",
        "trainX = np.reshape(trainX, (trainX.shape[0], look_back_memory, variables))\n",
        "testX = np.reshape(testX, (testX.shape[0], look_back_memory, variables))\n",
        "print(trainX.shape)\n",
        "print(testX.shape)"
      ],
      "execution_count": 15,
      "outputs": [
        {
          "output_type": "stream",
          "text": [
            "(1042, 10, 3)\n",
            "(508, 10, 3)\n"
          ],
          "name": "stdout"
        }
      ]
    },
    {
      "cell_type": "code",
      "metadata": {
        "colab": {
          "base_uri": "https://localhost:8080/"
        },
        "id": "yiApRKz_GURI",
        "outputId": "5b80ae21-a5bf-46fc-9f82-f461712ac21b"
      },
      "source": [
        "# creamos el modelo y lo entrenamos\n",
        "model = Sequential() #initialize model\n",
        "model.add(LSTM(10, input_shape=(look_back_memory, variables)))\n",
        "model.add(Dense(1, activation='linear'))\n",
        "model.compile(loss='mean_squared_error', optimizer='adam')\n",
        "model.fit(trainX, trainY, epochs=25, batch_size=1, verbose=1)"
      ],
      "execution_count": 16,
      "outputs": [
        {
          "output_type": "stream",
          "text": [
            "Epoch 1/25\n",
            "1042/1042 [==============================] - 4s 2ms/step - loss: 9.9539e-04\n",
            "Epoch 2/25\n",
            "1042/1042 [==============================] - 2s 2ms/step - loss: 8.4665e-05\n",
            "Epoch 3/25\n",
            "1042/1042 [==============================] - 2s 2ms/step - loss: 8.4252e-05\n",
            "Epoch 4/25\n",
            "1042/1042 [==============================] - 3s 3ms/step - loss: 6.0175e-05\n",
            "Epoch 5/25\n",
            "1042/1042 [==============================] - 3s 2ms/step - loss: 5.6099e-05\n",
            "Epoch 6/25\n",
            "1042/1042 [==============================] - 3s 2ms/step - loss: 5.6419e-05\n",
            "Epoch 7/25\n",
            "1042/1042 [==============================] - 3s 2ms/step - loss: 6.8586e-05\n",
            "Epoch 8/25\n",
            "1042/1042 [==============================] - 3s 2ms/step - loss: 7.1202e-05\n",
            "Epoch 9/25\n",
            "1042/1042 [==============================] - 2s 2ms/step - loss: 4.5724e-05\n",
            "Epoch 10/25\n",
            "1042/1042 [==============================] - 2s 2ms/step - loss: 4.8764e-05\n",
            "Epoch 11/25\n",
            "1042/1042 [==============================] - 3s 2ms/step - loss: 4.4353e-05\n",
            "Epoch 12/25\n",
            "1042/1042 [==============================] - 3s 2ms/step - loss: 3.7955e-05\n",
            "Epoch 13/25\n",
            "1042/1042 [==============================] - 3s 2ms/step - loss: 4.8873e-05\n",
            "Epoch 14/25\n",
            "1042/1042 [==============================] - 2s 2ms/step - loss: 3.4557e-05\n",
            "Epoch 15/25\n",
            "1042/1042 [==============================] - 2s 2ms/step - loss: 4.2320e-05\n",
            "Epoch 16/25\n",
            "1042/1042 [==============================] - 3s 2ms/step - loss: 3.7691e-05\n",
            "Epoch 17/25\n",
            "1042/1042 [==============================] - 2s 2ms/step - loss: 3.6884e-05\n",
            "Epoch 18/25\n",
            "1042/1042 [==============================] - 3s 2ms/step - loss: 5.2607e-05\n",
            "Epoch 19/25\n",
            "1042/1042 [==============================] - 3s 2ms/step - loss: 4.8050e-05\n",
            "Epoch 20/25\n",
            "1042/1042 [==============================] - 2s 2ms/step - loss: 4.6109e-05\n",
            "Epoch 21/25\n",
            "1042/1042 [==============================] - 3s 2ms/step - loss: 3.6036e-05\n",
            "Epoch 22/25\n",
            "1042/1042 [==============================] - 3s 2ms/step - loss: 3.5554e-05\n",
            "Epoch 23/25\n",
            "1042/1042 [==============================] - 3s 2ms/step - loss: 3.6578e-05\n",
            "Epoch 24/25\n",
            "1042/1042 [==============================] - 2s 2ms/step - loss: 3.3651e-05\n",
            "Epoch 25/25\n",
            "1042/1042 [==============================] - 2s 2ms/step - loss: 4.3839e-05\n"
          ],
          "name": "stdout"
        },
        {
          "output_type": "execute_result",
          "data": {
            "text/plain": [
              "<tensorflow.python.keras.callbacks.History at 0x7fa038f93f10>"
            ]
          },
          "metadata": {
            "tags": []
          },
          "execution_count": 16
        }
      ]
    },
    {
      "cell_type": "code",
      "metadata": {
        "id": "9doL36hEHJd7"
      },
      "source": [
        "# vamos a ver qué tal funciona nuestro modelo\n",
        "trainPredict = model.predict(trainX)\n",
        "testPredict = model.predict(testX)"
      ],
      "execution_count": 17,
      "outputs": []
    },
    {
      "cell_type": "code",
      "metadata": {
        "id": "mARb7e2eHNYv"
      },
      "source": [
        "# una vez hechas las predicciones, tenemos que des-normalizarlas\n",
        "xmin = scaler.data_min_[-2]\n",
        "xmax = scaler.data_max_[-2]\n",
        "trainPredict = trainPredict * (xmax - xmin) + xmin\n",
        "trainY_orig = trainY * (xmax - xmin) + xmin\n",
        "testPredict = testPredict * (xmax - xmin) + xmin\n",
        "testY_orig = testY * (xmax - xmin) + xmin"
      ],
      "execution_count": 18,
      "outputs": []
    },
    {
      "cell_type": "code",
      "metadata": {
        "colab": {
          "base_uri": "https://localhost:8080/",
          "height": 299
        },
        "id": "1No3CtCEHTU2",
        "outputId": "c4714024-73d8-4c39-851f-d516a174d0c1"
      },
      "source": [
        "# y ahora calculamos el error cometido en train y en test\n",
        "trainScore = math.sqrt(mean_squared_error(trainY_orig, trainPredict[:,0]))\n",
        "print('Train Score: %.2f RMSE' % (trainScore))\n",
        "testScore = math.sqrt(mean_squared_error(testY_orig, testPredict[:,0]))\n",
        "print('Test Score: %.2f RMSE' % (testScore))\n",
        "\n",
        "# por como creamos el dataset de entrenamiento, ahora tenemos que desplazar\n",
        "# nuestras predicciones para que \"cuadren\" con el eje x de los datos originales\n",
        "trainPredictPlot = np.full(dataset.shape[0], np.nan)\n",
        "trainPredictPlot[look_back_memory:len(trainPredict)+look_back_memory] = trainPredict[:, 0]\n",
        "\n",
        "# y lo mismo para el test\n",
        "testPredictPlot = np.full(dataset.shape[0], np.nan)\n",
        "testPredictPlot[len(trainPredict)+(look_back_memory*2)+1:len(dataset)-1] = testPredict[:, 0]\n",
        "\n",
        "# y mostramos los datos originales, la predicción en training y la predicción en test\n",
        "plt.plot(dataset_raw['Close'].values)          \n",
        "plt.plot(trainPredictPlot)\n",
        "plt.plot(testPredictPlot)\n",
        "plt.show()"
      ],
      "execution_count": 19,
      "outputs": [
        {
          "output_type": "stream",
          "text": [
            "Train Score: 376.65 RMSE\n",
            "Test Score: 3541.38 RMSE\n"
          ],
          "name": "stdout"
        },
        {
          "output_type": "display_data",
          "data": {
            "image/png": "[encoded data removed]",
            "text/plain": [
              "<Figure size 432x288 with 1 Axes>"
            ]
          },
          "metadata": {
            "tags": [],
            "needs_background": "light"
          }
        }
      ]
    }
  ]
}